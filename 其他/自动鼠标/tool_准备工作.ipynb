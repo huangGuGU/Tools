{
 "cells": [
  {
   "cell_type": "code",
   "execution_count": 2,
   "metadata": {},
   "outputs": [],
   "source": [
    "import pyautogui as pg\n",
    "import time \n",
    "\n"
   ]
  },
  {
   "cell_type": "code",
   "execution_count": 6,
   "metadata": {},
   "outputs": [],
   "source": [
    "# 移动到该位置\n",
    "pg.moveTo(1374 ,899)"
   ]
  },
  {
   "cell_type": "code",
   "execution_count": 28,
   "metadata": {},
   "outputs": [],
   "source": [
    "# time.sleep(0.1)\n",
    "pg.hotkey('command','space')\n"
   ]
  },
  {
   "cell_type": "code",
   "execution_count": 11,
   "metadata": {},
   "outputs": [],
   "source": [
    "pg.hotkey('shift','command','z')\n",
    "\n",
    "# pg.mouseDown(212, 222)\n",
    "# pg.mouseUp(890, 874)\n",
    "\n",
    "        "
   ]
  },
  {
   "cell_type": "markdown",
   "metadata": {},
   "source": [
    "pyautogui的函数\n",
    "\n",
    "(代替键盘鼠标自动完成设置的操作，超级好玩 >.\n",
    "\n",
    "moveTo(x，y)                将鼠标移动到指定的 x、y 坐标   (屏幕以左上角为原点(0,0)，向下y增加，向右x增加)\n",
    "\n",
    "moveTo(x，y,duration)  使用duration值设置几秒后移动鼠标到指定的 x、y 坐标\n",
    "\n",
    "moveRel (x，y)             相对于当前的鼠标位置移动鼠标。\n",
    "\n",
    "size()                                  获得屏幕的width和height值\n",
    "\n",
    "position()                            获得当前鼠标的位置\n",
    "\n",
    "locateOnScreen(' *.png')   在屏幕上通过图像识别找到与图像相同的位置，并返回坐标size\n",
    "\n",
    "center(size)                       可通过locateOnScreen获得的图像坐标对象，并返回其图像上的 中心点坐标(可用moveTo,移动到此处)\n",
    "\n",
    "dragTo(x，y)                 按下左键移动鼠标。\n",
    "\n",
    "dragRel (x，y)              按下左键，相对于当前位置移动鼠标。\n",
    "\n",
    "click(x，y，button)       模拟点击(默认是左键)。\n",
    "\n",
    "rightClick()                         模拟右键点击。\n",
    "\n",
    "middleClick()                     模拟中键点击。\n",
    "\n",
    "doubleClick()                     模拟左键双击。\n",
    "\n",
    "mouseDown(x，y，button)模拟在 x、y 处按下指定鼠标按键。\n",
    "\n",
    "mouseUp(x，y，button)模拟在 x、y 处释放指定键。\n",
    "\n",
    "scroll (units)                  模拟滚动滚轮。正参数表示向上滚动，负参数表示向下滚动。\n",
    "\n",
    "typewrite(message)      键入给定消息字符串中的字符。\n",
    "\n",
    "typewrite([key1，key2])键入给定键字符串，只能是英文。\n",
    "\n",
    "press(key)                     按下并释放给定键。\n",
    "\n",
    "keyDown(key)               模拟按下给定键，不释放。\n",
    "\n",
    "keyUp(key)                   模拟释放给定键。\n",
    "\n",
    "hotkey([key1，key2])   模拟按顺序按下给定键字符串，然后以相反的顺序释放，(实现粘贴复制操作)\n",
    "\n",
    "pyautogui.PAUSE=1　　  将pyautogui.PAUSE 设置为 1，即每次函数调用后暂停一秒。\n",
    "\n",
    "pyautogui.FAILSAFE=True  启动自动防故障功能\n",
    "\n",
    "pyperclip函数\n",
    "\n",
    "(可通过此库函数实现自动输入中文)\n",
    "\n",
    "copy('str1')                   复制内容str1，内容可设置为中文等\n",
    "\n",
    "paste()　　　　　　　将复制的内容粘贴到输入处，粘贴时也可使用pyautogui的hotkey实现"
   ]
  },
  {
   "cell_type": "code",
   "execution_count": null,
   "metadata": {},
   "outputs": [],
   "source": []
  }
 ],
 "metadata": {
  "kernelspec": {
   "display_name": "Python 3.8.6 64-bit ('tfpy39')",
   "language": "python",
   "name": "python3"
  },
  "language_info": {
   "codemirror_mode": {
    "name": "ipython",
    "version": 3
   },
   "file_extension": ".py",
   "mimetype": "text/x-python",
   "name": "python",
   "nbconvert_exporter": "python",
   "pygments_lexer": "ipython3",
   "version": "3.8.6"
  },
  "orig_nbformat": 4,
  "vscode": {
   "interpreter": {
    "hash": "7c98f917436e91ad7f0c3d4f5d9b3df817d2512acd5c63c803caddd09106776b"
   }
  }
 },
 "nbformat": 4,
 "nbformat_minor": 2
}
